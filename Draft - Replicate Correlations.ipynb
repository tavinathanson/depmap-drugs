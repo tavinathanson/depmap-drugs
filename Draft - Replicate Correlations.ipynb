{
 "cells": [
  {
   "cell_type": "markdown",
   "id": "f65cb69a",
   "metadata": {},
   "source": [
    "# Correlations Between Replicates"
   ]
  },
  {
   "cell_type": "markdown",
   "id": "2232c194",
   "metadata": {},
   "source": [
    "In this notebook we look into whether replicates are correlated. "
   ]
  },
  {
   "cell_type": "code",
   "execution_count": 1,
   "id": "bc7d5030",
   "metadata": {},
   "outputs": [],
   "source": [
    "import pandas as pd"
   ]
  },
  {
   "cell_type": "code",
   "execution_count": 2,
   "id": "0a279740",
   "metadata": {},
   "outputs": [],
   "source": [
    "df_primary_mfi = pd.read_csv(\"data/primary-screen-primary-mfi.csv\")\n",
    "df_primary_mfi.rename(columns={\"Unnamed: 0\": \"cell_line\"}, inplace=True)"
   ]
  },
  {
   "cell_type": "code",
   "execution_count": 3,
   "id": "00224a3c",
   "metadata": {},
   "outputs": [],
   "source": [
    "df_melted = df_primary_mfi.melt(id_vars=[\"cell_line\"])\n",
    "df_melted.columns = [\"cell_line\", \"column_name\", \"mfi\"]\n",
    "df_melted.set_index(\"column_name\", inplace=True)"
   ]
  },
  {
   "cell_type": "code",
   "execution_count": 4,
   "id": "07a5855b",
   "metadata": {},
   "outputs": [
    {
     "data": {
      "text/html": [
       "<div>\n",
       "<style scoped>\n",
       "    .dataframe tbody tr th:only-of-type {\n",
       "        vertical-align: middle;\n",
       "    }\n",
       "\n",
       "    .dataframe tbody tr th {\n",
       "        vertical-align: top;\n",
       "    }\n",
       "\n",
       "    .dataframe thead th {\n",
       "        text-align: right;\n",
       "    }\n",
       "</style>\n",
       "<table border=\"1\" class=\"dataframe\">\n",
       "  <thead>\n",
       "    <tr style=\"text-align: right;\">\n",
       "      <th></th>\n",
       "      <th>cell_line</th>\n",
       "      <th>mfi</th>\n",
       "    </tr>\n",
       "    <tr>\n",
       "      <th>column_name</th>\n",
       "      <th></th>\n",
       "      <th></th>\n",
       "    </tr>\n",
       "  </thead>\n",
       "  <tbody>\n",
       "    <tr>\n",
       "      <th>PREP001_X1:A01::HTS</th>\n",
       "      <td>ACH-000001</td>\n",
       "      <td>109.0</td>\n",
       "    </tr>\n",
       "    <tr>\n",
       "      <th>PREP001_X1:A01::HTS</th>\n",
       "      <td>ACH-000007</td>\n",
       "      <td>1146.5</td>\n",
       "    </tr>\n",
       "    <tr>\n",
       "      <th>PREP001_X1:A01::HTS</th>\n",
       "      <td>ACH-000008</td>\n",
       "      <td>1311.0</td>\n",
       "    </tr>\n",
       "    <tr>\n",
       "      <th>PREP001_X1:A01::HTS</th>\n",
       "      <td>ACH-000010_FAILED_STR</td>\n",
       "      <td>521.0</td>\n",
       "    </tr>\n",
       "    <tr>\n",
       "      <th>PREP001_X1:A01::HTS</th>\n",
       "      <td>ACH-000011</td>\n",
       "      <td>64.0</td>\n",
       "    </tr>\n",
       "    <tr>\n",
       "      <th>...</th>\n",
       "      <td>...</td>\n",
       "      <td>...</td>\n",
       "    </tr>\n",
       "    <tr>\n",
       "      <th>PMTS003_X3:P24::MTS004</th>\n",
       "      <td>CONTROL_BARCODE_5</td>\n",
       "      <td>NaN</td>\n",
       "    </tr>\n",
       "    <tr>\n",
       "      <th>PMTS003_X3:P24::MTS004</th>\n",
       "      <td>CONTROL_BARCODE_6</td>\n",
       "      <td>NaN</td>\n",
       "    </tr>\n",
       "    <tr>\n",
       "      <th>PMTS003_X3:P24::MTS004</th>\n",
       "      <td>CONTROL_BARCODE_7</td>\n",
       "      <td>NaN</td>\n",
       "    </tr>\n",
       "    <tr>\n",
       "      <th>PMTS003_X3:P24::MTS004</th>\n",
       "      <td>CONTROL_BARCODE_8</td>\n",
       "      <td>NaN</td>\n",
       "    </tr>\n",
       "    <tr>\n",
       "      <th>PMTS003_X3:P24::MTS004</th>\n",
       "      <td>CONTROL_BARCODE_9</td>\n",
       "      <td>NaN</td>\n",
       "    </tr>\n",
       "  </tbody>\n",
       "</table>\n",
       "<p>10030104 rows × 2 columns</p>\n",
       "</div>"
      ],
      "text/plain": [
       "                                    cell_line     mfi\n",
       "column_name                                          \n",
       "PREP001_X1:A01::HTS                ACH-000001   109.0\n",
       "PREP001_X1:A01::HTS                ACH-000007  1146.5\n",
       "PREP001_X1:A01::HTS                ACH-000008  1311.0\n",
       "PREP001_X1:A01::HTS     ACH-000010_FAILED_STR   521.0\n",
       "PREP001_X1:A01::HTS                ACH-000011    64.0\n",
       "...                                       ...     ...\n",
       "PMTS003_X3:P24::MTS004      CONTROL_BARCODE_5     NaN\n",
       "PMTS003_X3:P24::MTS004      CONTROL_BARCODE_6     NaN\n",
       "PMTS003_X3:P24::MTS004      CONTROL_BARCODE_7     NaN\n",
       "PMTS003_X3:P24::MTS004      CONTROL_BARCODE_8     NaN\n",
       "PMTS003_X3:P24::MTS004      CONTROL_BARCODE_9     NaN\n",
       "\n",
       "[10030104 rows x 2 columns]"
      ]
     },
     "execution_count": 4,
     "metadata": {},
     "output_type": "execute_result"
    }
   ],
   "source": [
    "df_melted"
   ]
  },
  {
   "cell_type": "code",
   "execution_count": 5,
   "id": "c917cd4a",
   "metadata": {},
   "outputs": [],
   "source": [
    "df_info = pd.read_csv(\"data/primary-screen-replicate-treatment-info.csv\")\n",
    "\n",
    "# Focus on the experimental treatments for now\n",
    "df_info = df_info[df_info.perturbation_type == \"experimental_treatment\"].set_index(\"column_name\")\n",
    "\n",
    "# Include broad_id and detection plate\n",
    "df_melted = df_melted.join(df_info[[\"broad_id\", \"detection_plate\"]], how=\"left\")\n",
    "\n",
    "# Generate a consistent cell line ordering to use later\n",
    "cell_lines_ordered = df_primary_mfi[[\"cell_line\"]].set_index(\"cell_line\")"
   ]
  },
  {
   "cell_type": "markdown",
   "id": "74b226c6",
   "metadata": {},
   "source": [
    "The following was does hastily and remains unused or tested, so there are probably bugs.\n",
    "\n",
    "That being said, we look at the multiple detection plates for each broad_id and correlate the vectors."
   ]
  },
  {
   "cell_type": "code",
   "execution_count": 6,
   "id": "dadd0d0b",
   "metadata": {},
   "outputs": [],
   "source": [
    "broad_id_to_min_replicate_corr = {}\n",
    "\n",
    "# Walk through each drug's MFI values\n",
    "for broad_id, df_group in df_melted.groupby([\"broad_id\"]):\n",
    "    detection_plate_to_replicate_vector = {}\n",
    "    \n",
    "    # For each drug, walk through the values for each detection plate\n",
    "    for detection_plate, df_detection_group in df_group.groupby(\"detection_plate\"):\n",
    "        \n",
    "        # Order the MFI values consistently and \n",
    "        single_replicate_vector = df_detection_group.set_index(\"cell_line\").reindex(cell_lines_ordered.index)\n",
    "        detection_plate_to_replicate_vector[detection_plate] = single_replicate_vector.mfi\n",
    "    \n",
    "    # Correlate the MFI values for each detection plate (under the same broad_id)\n",
    "    df_detection_plate = pd.DataFrame(detection_plate_to_replicate_vector)\n",
    "    corr = df_detection_plate.corr().stack()\n",
    "    corr = corr[corr.index.get_level_values(0) != corr.index.get_level_values(1)]\n",
    "    broad_id_to_min_replicate_corr[broad_id] = corr.mean()"
   ]
  },
  {
   "cell_type": "code",
   "execution_count": 7,
   "id": "d51a67ba",
   "metadata": {},
   "outputs": [],
   "source": [
    "df_info[\"min_replicate_corr\"] = df_info.broad_id.apply(lambda broad_id: broad_id_to_min_replicate_corr[broad_id])"
   ]
  },
  {
   "cell_type": "markdown",
   "id": "cd8e20a9",
   "metadata": {},
   "source": [
    "This looks somewhat reasonable: most sets of replicatse are highly correlated."
   ]
  },
  {
   "cell_type": "code",
   "execution_count": 8,
   "id": "1dad8d49",
   "metadata": {},
   "outputs": [
    {
     "data": {
      "text/plain": [
       "<AxesSubplot:>"
      ]
     },
     "execution_count": 8,
     "metadata": {},
     "output_type": "execute_result"
    },
    {
     "data": {
      "image/png": "[encoded data removed]",
      "text/plain": [
       "<Figure size 432x288 with 1 Axes>"
      ]
     },
     "metadata": {
      "needs_background": "light"
     },
     "output_type": "display_data"
    }
   ],
   "source": [
    "df_info.min_replicate_corr.hist()"
   ]
  },
  {
   "cell_type": "code",
   "execution_count": 9,
   "id": "75ba135d",
   "metadata": {},
   "outputs": [
    {
     "data": {
      "text/plain": [
       "count    14082.000000\n",
       "mean         0.771771\n",
       "std          0.141032\n",
       "min         -0.000661\n",
       "25%          0.747502\n",
       "50%          0.823292\n",
       "75%          0.859748\n",
       "max          0.919946\n",
       "Name: min_replicate_corr, dtype: float64"
      ]
     },
     "execution_count": 9,
     "metadata": {},
     "output_type": "execute_result"
    }
   ],
   "source": [
    "df_info.min_replicate_corr.describe()"
   ]
  }
 ],
 "metadata": {
  "kernelspec": {
   "display_name": "Python 3 (ipykernel)",
   "language": "python",
   "name": "python3"
  },
  "language_info": {
   "codemirror_mode": {
    "name": "ipython",
    "version": 3
   },
   "file_extension": ".py",
   "mimetype": "text/x-python",
   "name": "python",
   "nbconvert_exporter": "python",
   "pygments_lexer": "ipython3",
   "version": "3.7.11"
  }
 },
 "nbformat": 4,
 "nbformat_minor": 5
}
