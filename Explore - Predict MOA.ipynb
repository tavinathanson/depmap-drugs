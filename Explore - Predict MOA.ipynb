{
 "cells": [
  {
   "cell_type": "markdown",
   "id": "1a48cb6b",
   "metadata": {},
   "source": [
    "# Predict Drug MOAs "
   ]
  },
  {
   "cell_type": "markdown",
   "id": "1edb7d85",
   "metadata": {},
   "source": [
    "In this notebook, we try to predict a drug's MOA using its per-cell-line PRISM response data."
   ]
  },
  {
   "cell_type": "code",
   "execution_count": 1,
   "id": "06c00ef8",
   "metadata": {},
   "outputs": [],
   "source": [
    "from util import *"
   ]
  },
  {
   "cell_type": "markdown",
   "id": "ef81083b",
   "metadata": {},
   "source": [
    "## All MOAs"
   ]
  },
  {
   "cell_type": "markdown",
   "id": "59a1bdd7",
   "metadata": {},
   "source": [
    "First, let's try roughly predicting all MOAs using all the data. We remove MOAs that don't have a reasonable amount of data."
   ]
  },
  {
   "cell_type": "code",
   "execution_count": 2,
   "id": "9528d9cb",
   "metadata": {},
   "outputs": [],
   "source": [
    "df, df_info = get_processed_data(drugs_as_features=False, impute=True)"
   ]
  },
  {
   "cell_type": "code",
   "execution_count": 3,
   "id": "34590e5e",
   "metadata": {},
   "outputs": [
    {
     "name": "stdout",
     "output_type": "stream",
     "text": [
      "[Rows = 4325] Removing 361 of 4686 rows without a known MOA in the info data\n"
     ]
    }
   ],
   "source": [
    "orig_len = len(df)\n",
    "df = df.join(df_info[[\"moa\"]], how=\"inner\").dropna(subset=[\"moa\"])\n",
    "print(\"[Rows = {}] Removing {} of {} rows without a known MOA in the info data\".format(\n",
    "    len(df), orig_len - len(df), orig_len))"
   ]
  },
  {
   "cell_type": "code",
   "execution_count": 4,
   "id": "7983cf20",
   "metadata": {},
   "outputs": [
    {
     "name": "stdout",
     "output_type": "stream",
     "text": [
      "[Rows = 3929] For simplicity, removing 396 of 4325 rows with multiple MOAs\n"
     ]
    }
   ],
   "source": [
    "orig_len = len(df)\n",
    "df = df[~df.moa.apply(lambda s: \",\" in s)]\n",
    "print(\"[Rows = {}] For simplicity, removing {} of {} rows with multiple MOAs\".format(\n",
    "    len(df), orig_len - len(df), orig_len))"
   ]
  },
  {
   "cell_type": "markdown",
   "id": "fd81e4dc",
   "metadata": {},
   "source": [
    "What do these MOAs look like?"
   ]
  },
  {
   "cell_type": "code",
   "execution_count": 5,
   "id": "b37ecc70",
   "metadata": {},
   "outputs": [
    {
     "data": {
      "text/plain": [
       "cyclooxygenase inhibitor                        89\n",
       "adrenergic receptor antagonist                  89\n",
       "adrenergic receptor agonist                     81\n",
       "acetylcholine receptor antagonist               78\n",
       "histamine receptor antagonist                   68\n",
       "                                                ..\n",
       "glycosylated protein precursor                   1\n",
       "excipient                                        1\n",
       "ecdysone receptor modulator                      1\n",
       "PKA inhibitor                                    1\n",
       "pyruvate ferredoxin oxidoreductase inhibitor     1\n",
       "Name: moa, Length: 781, dtype: int64"
      ]
     },
     "execution_count": 5,
     "metadata": {},
     "output_type": "execute_result"
    }
   ],
   "source": [
    "df.moa.value_counts()"
   ]
  },
  {
   "cell_type": "code",
   "execution_count": 6,
   "id": "44cc4412",
   "metadata": {},
   "outputs": [
    {
     "name": "stdout",
     "output_type": "stream",
     "text": [
      "[Rows = 2311] Removing 1618 of 3929 rows without an MOA that is present for at least 10 drugs\n"
     ]
    }
   ],
   "source": [
    "orig_len = len(df)\n",
    "df[\"moa_count\"] = df.groupby(\"moa\")[\"moa\"].transform(\"count\")\n",
    "df = df[df.moa_count >= 10]\n",
    "print(\"[Rows = {}] Removing {} of {} rows without an MOA that is present for at least 10 drugs\".format(\n",
    "    len(df), orig_len - len(df), orig_len))\n",
    "df = df.drop(columns=[\"moa_count\"])"
   ]
  },
  {
   "cell_type": "code",
   "execution_count": 7,
   "id": "5ab56342",
   "metadata": {},
   "outputs": [
    {
     "name": "stdout",
     "output_type": "stream",
     "text": [
      "Fitting model...\n",
      "Model achieved an accuracy of 0.14, balanced accuracy of 0.13, AUC of 0.67\n"
     ]
    }
   ],
   "source": [
    "model = logistic_regression_auc(x_values=df.drop(columns=[\"moa\"]), y_values=df.moa)"
   ]
  },
  {
   "cell_type": "markdown",
   "id": "e1350a49",
   "metadata": {},
   "source": [
    "Interesting. Average AUC (when averaging over MOA A vs. not MOA A, MOA B vs. not MOA B and so on) is reasonable, but \n",
    "accuracy when looking at the complete multiclass predictions is very low. Can we do better?"
   ]
  },
  {
   "cell_type": "markdown",
   "id": "6bc46f15",
   "metadata": {},
   "source": [
    "## Non-Cancer-Related MOA"
   ]
  },
  {
   "cell_type": "markdown",
   "id": "94dc5b20",
   "metadata": {},
   "source": [
    "Hypothesis: perhaps a lot of these MOAs, many of them not cancer specific, are fairly irrelevant to this prediction\n",
    "problem and are muddying our ability to predict cancer-specific MOAs. For example, can we really predict anything about a histamine receptor antagonist with cancer cell line response data?"
   ]
  },
  {
   "cell_type": "code",
   "execution_count": 8,
   "id": "f862a519",
   "metadata": {},
   "outputs": [],
   "source": [
    "df[\"is_histamine_antagonist\"] = df.moa == \"histamine receptor antagonist\""
   ]
  },
  {
   "cell_type": "code",
   "execution_count": 9,
   "id": "aadb2c46",
   "metadata": {},
   "outputs": [
    {
     "name": "stdout",
     "output_type": "stream",
     "text": [
      "Fitting model...\n",
      "Model achieved an accuracy of 0.94, balanced accuracy of 0.49, AUC of 0.55\n"
     ]
    }
   ],
   "source": [
    "model = logistic_regression_auc(x_values=df.drop(columns=[\"moa\", \"is_histamine_antagonist\"]),\n",
    "                                y_values=df.is_histamine_antagonist)\n",
    "df = df.drop(columns=[\"is_histamine_antagonist\"])"
   ]
  },
  {
   "cell_type": "markdown",
   "id": "fde32324",
   "metadata": {},
   "source": [
    "This poor AUC and poor balanced accuracy seems in line with the above hypothesis."
   ]
  },
  {
   "cell_type": "markdown",
   "id": "b16b1a57",
   "metadata": {},
   "source": [
    "## Cancer-Related MOAs"
   ]
  },
  {
   "cell_type": "markdown",
   "id": "c7446a8b",
   "metadata": {},
   "source": [
    "How about picking a few MOAs that are clearly cancer related?"
   ]
  },
  {
   "cell_type": "code",
   "execution_count": 10,
   "id": "7897ea78",
   "metadata": {},
   "outputs": [
    {
     "name": "stdout",
     "output_type": "stream",
     "text": [
      "[Rows = 130] Removing 2181 of 2311 rows that do not match these specific MOAs\n"
     ]
    }
   ],
   "source": [
    "orig_len = len(df)\n",
    "df = df[df.moa.isin({\"EGFR inhibitor\", \"PI3K inhibitor\", \"MEK inhibitor\", \"PARP inhibitor\", \"CDK inhibitor\"})]\n",
    "print(\"[Rows = {}] Removing {} of {} rows that do not match these specific MOAs\".format(\n",
    "    len(df), orig_len - len(df), orig_len))"
   ]
  },
  {
   "cell_type": "code",
   "execution_count": 11,
   "id": "5140a948",
   "metadata": {},
   "outputs": [
    {
     "data": {
      "text/plain": [
       "EGFR inhibitor    34\n",
       "PI3K inhibitor    33\n",
       "MEK inhibitor     22\n",
       "CDK inhibitor     21\n",
       "PARP inhibitor    20\n",
       "Name: moa, dtype: int64"
      ]
     },
     "execution_count": 11,
     "metadata": {},
     "output_type": "execute_result"
    }
   ],
   "source": [
    "df.moa.value_counts()"
   ]
  },
  {
   "cell_type": "code",
   "execution_count": 12,
   "id": "e5e628f8",
   "metadata": {},
   "outputs": [
    {
     "name": "stdout",
     "output_type": "stream",
     "text": [
      "Fitting model...\n",
      "Model achieved an accuracy of 0.75, balanced accuracy of 0.75, AUC of 0.90\n"
     ]
    }
   ],
   "source": [
    "model = logistic_regression_auc(x_values=df.drop(columns=[\"moa\"]),\n",
    "                                y_values=df.moa)"
   ]
  },
  {
   "cell_type": "markdown",
   "id": "90fadfc4",
   "metadata": {},
   "source": [
    "This also makes sense: trying to predict cancer-related MOAs from PRISM cell line signatures seems reasonable."
   ]
  },
  {
   "cell_type": "code",
   "execution_count": null,
   "id": "0509ff0f",
   "metadata": {},
   "outputs": [],
   "source": []
  }
 ],
 "metadata": {
  "kernelspec": {
   "display_name": "Python 3 (ipykernel)",
   "language": "python",
   "name": "python3"
  },
  "language_info": {
   "codemirror_mode": {
    "name": "ipython",
    "version": 3
   },
   "file_extension": ".py",
   "mimetype": "text/x-python",
   "name": "python",
   "nbconvert_exporter": "python",
   "pygments_lexer": "ipython3",
   "version": "3.7.11"
  }
 },
 "nbformat": 4,
 "nbformat_minor": 5
}
