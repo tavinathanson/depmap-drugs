{
 "cells": [
  {
   "cell_type": "code",
   "execution_count": 1,
   "id": "9f8ddf2e",
   "metadata": {},
   "outputs": [],
   "source": [
    "import pandas as pd"
   ]
  },
  {
   "cell_type": "code",
   "execution_count": 2,
   "id": "f56838ce",
   "metadata": {},
   "outputs": [],
   "source": [
    "# Exclude some data to make the notebook run faster for testing\n",
    "DEBUG_FASTER = False"
   ]
  },
  {
   "cell_type": "code",
   "execution_count": 3,
   "id": "c2da2ab5",
   "metadata": {},
   "outputs": [],
   "source": [
    "pd.set_option(\"display.max_rows\", 8)"
   ]
  },
  {
   "cell_type": "code",
   "execution_count": 4,
   "id": "6266c085",
   "metadata": {},
   "outputs": [],
   "source": [
    "# Load in fully processed (replicate collapsed) data\n",
    "df_processed = pd.read_csv(\"data/primary-screen-replicate-collapsed-logfold-change.csv\")\n",
    "df_processed.rename(columns={\"Unnamed: 0\": \"cell_line\"}, inplace=True)\n",
    "df_processed.set_index(\"cell_line\", inplace=True)\n",
    "\n",
    "# Load in the corresponding column info data\n",
    "df_info = pd.read_csv(\"data/primary-screen-replicate-collapsed-treatment-info.csv\")"
   ]
  },
  {
   "cell_type": "markdown",
   "id": "3224c5dd",
   "metadata": {},
   "source": [
    "## Q: Why are there 4,686 columns when there were only 4,518 drugs?"
   ]
  },
  {
   "cell_type": "markdown",
   "id": "9b685eff",
   "metadata": {},
   "source": [
    "Let's first pick these apart by type of screen..."
   ]
  },
  {
   "cell_type": "code",
   "execution_count": 5,
   "id": "17d7260f",
   "metadata": {},
   "outputs": [
    {
     "data": {
      "text/plain": [
       "HTS       4147\n",
       "MTS004     539\n",
       "Name: screen_id, dtype: int64"
      ]
     },
     "execution_count": 5,
     "metadata": {},
     "output_type": "execute_result"
    }
   ],
   "source": [
    "df_info.screen_id.value_counts()"
   ]
  },
  {
   "cell_type": "markdown",
   "id": "dff0a963",
   "metadata": {},
   "source": [
    "Where are the other screens (e.g. MTS006)? Those are part of the secondary screening:"
   ]
  },
  {
   "cell_type": "code",
   "execution_count": 6,
   "id": "52db4994",
   "metadata": {},
   "outputs": [
    {
     "data": {
      "text/plain": [
       "HTS002    11168\n",
       "MTS010     1240\n",
       "MTS006      584\n",
       "MTS005       16\n",
       "Name: screen_id, dtype: int64"
      ]
     },
     "execution_count": 6,
     "metadata": {},
     "output_type": "execute_result"
    }
   ],
   "source": [
    "df_info_secondary = pd.read_csv(\"data/secondary-screen-replicate-collapsed-treatment-info.csv\")\n",
    "df_info_secondary.screen_id.value_counts()"
   ]
  },
  {
   "cell_type": "markdown",
   "id": "f159fd93",
   "metadata": {},
   "source": [
    "First, let's look at names:"
   ]
  },
  {
   "cell_type": "code",
   "execution_count": 7,
   "id": "e555b4d6",
   "metadata": {},
   "outputs": [
    {
     "name": "stdout",
     "output_type": "stream",
     "text": [
      "There are 4517 unique drug names\n"
     ]
    }
   ],
   "source": [
    "print(\"There are {} unique drug names\".format(df_info.name.nunique()))"
   ]
  },
  {
   "cell_type": "markdown",
   "id": "ec5c37c0",
   "metadata": {},
   "source": [
    "### Why 4,517 and not 4,518 unique drug names?\n",
    "\n",
    "We are missing a drug that isn't labeled:"
   ]
  },
  {
   "cell_type": "code",
   "execution_count": 8,
   "id": "74b1eb53",
   "metadata": {},
   "outputs": [
    {
     "data": {
      "text/html": [
       "<div>\n",
       "<style scoped>\n",
       "    .dataframe tbody tr th:only-of-type {\n",
       "        vertical-align: middle;\n",
       "    }\n",
       "\n",
       "    .dataframe tbody tr th {\n",
       "        vertical-align: top;\n",
       "    }\n",
       "\n",
       "    .dataframe thead th {\n",
       "        text-align: right;\n",
       "    }\n",
       "</style>\n",
       "<table border=\"1\" class=\"dataframe\">\n",
       "  <thead>\n",
       "    <tr style=\"text-align: right;\">\n",
       "      <th></th>\n",
       "      <th>column_name</th>\n",
       "      <th>broad_id</th>\n",
       "      <th>name</th>\n",
       "      <th>dose</th>\n",
       "      <th>screen_id</th>\n",
       "      <th>moa</th>\n",
       "      <th>target</th>\n",
       "      <th>disease.area</th>\n",
       "      <th>indication</th>\n",
       "      <th>smiles</th>\n",
       "      <th>phase</th>\n",
       "    </tr>\n",
       "  </thead>\n",
       "  <tbody>\n",
       "    <tr>\n",
       "      <th>2266</th>\n",
       "      <td>BRD-K28042756-001-01-9::5::HTS</td>\n",
       "      <td>BRD-K28042756-001-01-9</td>\n",
       "      <td>NaN</td>\n",
       "      <td>5.0</td>\n",
       "      <td>HTS</td>\n",
       "      <td>NaN</td>\n",
       "      <td>NaN</td>\n",
       "      <td>NaN</td>\n",
       "      <td>NaN</td>\n",
       "      <td>NaN</td>\n",
       "      <td>NaN</td>\n",
       "    </tr>\n",
       "  </tbody>\n",
       "</table>\n",
       "</div>"
      ],
      "text/plain": [
       "                         column_name                broad_id name  dose  \\\n",
       "2266  BRD-K28042756-001-01-9::5::HTS  BRD-K28042756-001-01-9  NaN   5.0   \n",
       "\n",
       "     screen_id  moa target disease.area indication smiles phase  \n",
       "2266       HTS  NaN    NaN          NaN        NaN    NaN   NaN  "
      ]
     },
     "execution_count": 8,
     "metadata": {},
     "output_type": "execute_result"
    }
   ],
   "source": [
    "df_info[df_info.name.isna()]"
   ]
  },
  {
   "cell_type": "code",
   "execution_count": 9,
   "id": "da787bc0",
   "metadata": {},
   "outputs": [
    {
     "data": {
      "text/plain": [
       "'BRD-K28042756-001-01-9::5::HTS'"
      ]
     },
     "execution_count": 9,
     "metadata": {},
     "output_type": "execute_result"
    }
   ],
   "source": [
    "nan_column = df_info[df_info.name.isna()].iloc[0].column_name\n",
    "nan_column"
   ]
  },
  {
   "cell_type": "markdown",
   "id": "5af34a9c",
   "metadata": {},
   "source": [
    "Is there activity for the unlabeled drug? Is it real? Yes:"
   ]
  },
  {
   "cell_type": "code",
   "execution_count": 10,
   "id": "dd44e8fa",
   "metadata": {},
   "outputs": [
    {
     "data": {
      "text/plain": [
       "cell_line\n",
       "ACH-000001               0.062508\n",
       "ACH-000007               0.298626\n",
       "ACH-000008              -0.836430\n",
       "ACH-000010_FAILED_STR         NaN\n",
       "                           ...   \n",
       "ACH-001306               0.115208\n",
       "ACH-001307              -0.430072\n",
       "ACH-001318              -0.393414\n",
       "ACH-001321              -0.272131\n",
       "Name: BRD-K28042756-001-01-9::5::HTS, Length: 578, dtype: float64"
      ]
     },
     "execution_count": 10,
     "metadata": {},
     "output_type": "execute_result"
    }
   ],
   "source": [
    "df_processed[nan_column]"
   ]
  },
  {
   "cell_type": "markdown",
   "id": "9c1bc668",
   "metadata": {},
   "source": [
    "Ok, so let's give it a name:"
   ]
  },
  {
   "cell_type": "code",
   "execution_count": 11,
   "id": "9830c785",
   "metadata": {},
   "outputs": [],
   "source": [
    "df_info.name = df_info.name.fillna(\"unlabeled\")"
   ]
  },
  {
   "cell_type": "markdown",
   "id": "74112b76",
   "metadata": {},
   "source": [
    "Now we have the expected number of unique drug names:"
   ]
  },
  {
   "cell_type": "code",
   "execution_count": 12,
   "id": "b5b164a6",
   "metadata": {},
   "outputs": [
    {
     "name": "stdout",
     "output_type": "stream",
     "text": [
      "There are 4518 unique drug names\n"
     ]
    }
   ],
   "source": [
    "print(\"There are {} unique drug names\".format(df_info.name.nunique()))"
   ]
  },
  {
   "cell_type": "markdown",
   "id": "40d62c12",
   "metadata": {},
   "source": [
    "### Next, let's look at dose to better understand what comprises the 4,686 number:"
   ]
  },
  {
   "cell_type": "code",
   "execution_count": 13,
   "id": "5e38f957",
   "metadata": {},
   "outputs": [],
   "source": [
    "df_name_dose_count = df_info.groupby([\"name\", \"dose\"]).count().rename(\n",
    "    columns={\"column_name\": \"name_dose_count\"})[[\"name_dose_count\"]]"
   ]
  },
  {
   "cell_type": "code",
   "execution_count": 14,
   "id": "ac84639f",
   "metadata": {},
   "outputs": [
    {
     "name": "stdout",
     "output_type": "stream",
     "text": [
      "There are 4607 unique drug name/dose combinations\n"
     ]
    }
   ],
   "source": [
    "print(\"There are {} unique drug name/dose combinations\".format(len(df_name_dose_count)))"
   ]
  },
  {
   "cell_type": "code",
   "execution_count": 15,
   "id": "8a067a41",
   "metadata": {},
   "outputs": [
    {
     "name": "stdout",
     "output_type": "stream",
     "text": [
      "There are 416 unique doses\n"
     ]
    }
   ],
   "source": [
    "print(\"There are {} unique doses\".format(df_info.dose.nunique()))"
   ]
  },
  {
   "cell_type": "code",
   "execution_count": 16,
   "id": "5af49d1e",
   "metadata": {},
   "outputs": [],
   "source": [
    "df_dose_counts = pd.DataFrame(df_info.dose.value_counts()).rename(columns={\"dose\": \"dose_count\"})"
   ]
  },
  {
   "cell_type": "markdown",
   "id": "d7e09e06",
   "metadata": {},
   "source": [
    "The vast majority of doses is 2.5, which is in line with the paper: \"A primary screen of 4,518 drugs was performed at 2.5 μM\""
   ]
  },
  {
   "cell_type": "code",
   "execution_count": 17,
   "id": "18f84543",
   "metadata": {},
   "outputs": [
    {
     "data": {
      "text/html": [
       "<div>\n",
       "<style scoped>\n",
       "    .dataframe tbody tr th:only-of-type {\n",
       "        vertical-align: middle;\n",
       "    }\n",
       "\n",
       "    .dataframe tbody tr th {\n",
       "        vertical-align: top;\n",
       "    }\n",
       "\n",
       "    .dataframe thead th {\n",
       "        text-align: right;\n",
       "    }\n",
       "</style>\n",
       "<table border=\"1\" class=\"dataframe\">\n",
       "  <thead>\n",
       "    <tr style=\"text-align: right;\">\n",
       "      <th></th>\n",
       "      <th>dose_count</th>\n",
       "    </tr>\n",
       "  </thead>\n",
       "  <tbody>\n",
       "    <tr>\n",
       "      <th>2.50</th>\n",
       "      <td>4125</td>\n",
       "    </tr>\n",
       "    <tr>\n",
       "      <th>0.25</th>\n",
       "      <td>13</td>\n",
       "    </tr>\n",
       "    <tr>\n",
       "      <th>2.58</th>\n",
       "      <td>12</td>\n",
       "    </tr>\n",
       "    <tr>\n",
       "      <th>2.52</th>\n",
       "      <td>10</td>\n",
       "    </tr>\n",
       "    <tr>\n",
       "      <th>...</th>\n",
       "      <td>...</td>\n",
       "    </tr>\n",
       "    <tr>\n",
       "      <th>1.36</th>\n",
       "      <td>1</td>\n",
       "    </tr>\n",
       "    <tr>\n",
       "      <th>2.65</th>\n",
       "      <td>1</td>\n",
       "    </tr>\n",
       "    <tr>\n",
       "      <th>2.89</th>\n",
       "      <td>1</td>\n",
       "    </tr>\n",
       "    <tr>\n",
       "      <th>0.94</th>\n",
       "      <td>1</td>\n",
       "    </tr>\n",
       "  </tbody>\n",
       "</table>\n",
       "<p>416 rows × 1 columns</p>\n",
       "</div>"
      ],
      "text/plain": [
       "      dose_count\n",
       "2.50        4125\n",
       "0.25          13\n",
       "2.58          12\n",
       "2.52          10\n",
       "...          ...\n",
       "1.36           1\n",
       "2.65           1\n",
       "2.89           1\n",
       "0.94           1\n",
       "\n",
       "[416 rows x 1 columns]"
      ]
     },
     "execution_count": 17,
     "metadata": {},
     "output_type": "execute_result"
    }
   ],
   "source": [
    "df_dose_counts.sort_values(by=\"dose_count\", ascending=False)"
   ]
  },
  {
   "cell_type": "markdown",
   "id": "573e4362",
   "metadata": {},
   "source": [
    "Let's understanding the dosing distribution, given that we only expected to see 2.5:"
   ]
  },
  {
   "cell_type": "code",
   "execution_count": 18,
   "id": "41257cfb",
   "metadata": {},
   "outputs": [],
   "source": [
    "unique_doses = set(df_info.dose.unique())\n",
    "unique_doses_series = pd.Series(list(unique_doses))"
   ]
  },
  {
   "cell_type": "code",
   "execution_count": 19,
   "id": "e5e041f8",
   "metadata": {},
   "outputs": [
    {
     "data": {
      "text/plain": [
       "count    416.000000\n",
       "mean       2.473920\n",
       "std        0.352875\n",
       "min        0.030000\n",
       "25%        2.479944\n",
       "50%        2.499998\n",
       "75%        2.518784\n",
       "max        5.600000\n",
       "dtype: float64"
      ]
     },
     "execution_count": 19,
     "metadata": {},
     "output_type": "execute_result"
    }
   ],
   "source": [
    "unique_doses_series.describe()"
   ]
  },
  {
   "cell_type": "code",
   "execution_count": 20,
   "id": "5d7a392c",
   "metadata": {},
   "outputs": [],
   "source": [
    "import seaborn as sb"
   ]
  },
  {
   "cell_type": "code",
   "execution_count": 21,
   "id": "a4af8079",
   "metadata": {},
   "outputs": [
    {
     "data": {
      "text/plain": [
       "<AxesSubplot:>"
      ]
     },
     "execution_count": 21,
     "metadata": {},
     "output_type": "execute_result"
    },
    {
     "data": {
      "image/png": "[encoded data removed]",
      "text/plain": [
       "<Figure size 432x288 with 1 Axes>"
      ]
     },
     "metadata": {
      "needs_background": "light"
     },
     "output_type": "display_data"
    }
   ],
   "source": [
    "sb.violinplot(x=unique_doses_series)"
   ]
  },
  {
   "cell_type": "markdown",
   "id": "1628e87d",
   "metadata": {},
   "source": [
    "For each drug name/dose combination, how many columns exist?"
   ]
  },
  {
   "cell_type": "code",
   "execution_count": 22,
   "id": "f77f6f40",
   "metadata": {
    "scrolled": true
   },
   "outputs": [
    {
     "data": {
      "text/html": [
       "<div>\n",
       "<style scoped>\n",
       "    .dataframe tbody tr th:only-of-type {\n",
       "        vertical-align: middle;\n",
       "    }\n",
       "\n",
       "    .dataframe tbody tr th {\n",
       "        vertical-align: top;\n",
       "    }\n",
       "\n",
       "    .dataframe thead th {\n",
       "        text-align: right;\n",
       "    }\n",
       "</style>\n",
       "<table border=\"1\" class=\"dataframe\">\n",
       "  <thead>\n",
       "    <tr style=\"text-align: right;\">\n",
       "      <th></th>\n",
       "      <th></th>\n",
       "      <th>name_dose_count</th>\n",
       "    </tr>\n",
       "    <tr>\n",
       "      <th>name</th>\n",
       "      <th>dose</th>\n",
       "      <th></th>\n",
       "    </tr>\n",
       "  </thead>\n",
       "  <tbody>\n",
       "    <tr>\n",
       "      <th>cefoselis</th>\n",
       "      <th>2.5</th>\n",
       "      <td>3</td>\n",
       "    </tr>\n",
       "    <tr>\n",
       "      <th>tempol</th>\n",
       "      <th>2.5</th>\n",
       "      <td>3</td>\n",
       "    </tr>\n",
       "    <tr>\n",
       "      <th>doxycycline</th>\n",
       "      <th>2.5</th>\n",
       "      <td>3</td>\n",
       "    </tr>\n",
       "    <tr>\n",
       "      <th>sulpiride</th>\n",
       "      <th>2.5</th>\n",
       "      <td>2</td>\n",
       "    </tr>\n",
       "    <tr>\n",
       "      <th>...</th>\n",
       "      <th>...</th>\n",
       "      <td>...</td>\n",
       "    </tr>\n",
       "    <tr>\n",
       "      <th>arotinolol</th>\n",
       "      <th>2.5</th>\n",
       "      <td>1</td>\n",
       "    </tr>\n",
       "    <tr>\n",
       "      <th>arsanilic-acid</th>\n",
       "      <th>2.5</th>\n",
       "      <td>1</td>\n",
       "    </tr>\n",
       "    <tr>\n",
       "      <th>artemisinin</th>\n",
       "      <th>2.5</th>\n",
       "      <td>1</td>\n",
       "    </tr>\n",
       "    <tr>\n",
       "      <th>zuclopenthixol</th>\n",
       "      <th>2.5</th>\n",
       "      <td>1</td>\n",
       "    </tr>\n",
       "  </tbody>\n",
       "</table>\n",
       "<p>4607 rows × 1 columns</p>\n",
       "</div>"
      ],
      "text/plain": [
       "                     name_dose_count\n",
       "name           dose                 \n",
       "cefoselis      2.5                 3\n",
       "tempol         2.5                 3\n",
       "doxycycline    2.5                 3\n",
       "sulpiride      2.5                 2\n",
       "...                              ...\n",
       "arotinolol     2.5                 1\n",
       "arsanilic-acid 2.5                 1\n",
       "artemisinin    2.5                 1\n",
       "zuclopenthixol 2.5                 1\n",
       "\n",
       "[4607 rows x 1 columns]"
      ]
     },
     "execution_count": 22,
     "metadata": {},
     "output_type": "execute_result"
    }
   ],
   "source": [
    "df_name_dose_count.sort_values(by=\"name_dose_count\", ascending=False)"
   ]
  },
  {
   "cell_type": "markdown",
   "id": "8cd0ef81",
   "metadata": {},
   "source": [
    "Do the total number of columns add up to 4,686 as expected? Yes:"
   ]
  },
  {
   "cell_type": "code",
   "execution_count": 23,
   "id": "ec3fc578",
   "metadata": {},
   "outputs": [
    {
     "data": {
      "text/plain": [
       "4686"
      ]
     },
     "execution_count": 23,
     "metadata": {},
     "output_type": "execute_result"
    }
   ],
   "source": [
    "df_name_dose_count.name_dose_count.sum()"
   ]
  },
  {
   "cell_type": "markdown",
   "id": "35de39ff",
   "metadata": {},
   "source": [
    "So why is e.g. cefoselis in there 3 times?"
   ]
  },
  {
   "cell_type": "code",
   "execution_count": 24,
   "id": "28385d76",
   "metadata": {},
   "outputs": [
    {
     "data": {
      "text/html": [
       "<div>\n",
       "<style scoped>\n",
       "    .dataframe tbody tr th:only-of-type {\n",
       "        vertical-align: middle;\n",
       "    }\n",
       "\n",
       "    .dataframe tbody tr th {\n",
       "        vertical-align: top;\n",
       "    }\n",
       "\n",
       "    .dataframe thead th {\n",
       "        text-align: right;\n",
       "    }\n",
       "</style>\n",
       "<table border=\"1\" class=\"dataframe\">\n",
       "  <thead>\n",
       "    <tr style=\"text-align: right;\">\n",
       "      <th></th>\n",
       "      <th>column_name</th>\n",
       "      <th>broad_id</th>\n",
       "      <th>name</th>\n",
       "      <th>dose</th>\n",
       "      <th>screen_id</th>\n",
       "      <th>moa</th>\n",
       "      <th>target</th>\n",
       "      <th>disease.area</th>\n",
       "      <th>indication</th>\n",
       "      <th>smiles</th>\n",
       "      <th>phase</th>\n",
       "    </tr>\n",
       "  </thead>\n",
       "  <tbody>\n",
       "    <tr>\n",
       "      <th>3762</th>\n",
       "      <td>BRD-K72339976-065-02-1::2.5::HTS</td>\n",
       "      <td>BRD-K72339976-065-02-1</td>\n",
       "      <td>cefoselis</td>\n",
       "      <td>2.5</td>\n",
       "      <td>HTS</td>\n",
       "      <td>bacterial cell wall synthesis inhibitor</td>\n",
       "      <td>NaN</td>\n",
       "      <td>NaN</td>\n",
       "      <td>NaN</td>\n",
       "      <td>CO\\N=C(/C(=O)N[C@H]1[C@H]2SCC(Cn3ccc(=N)n3CCO)...</td>\n",
       "      <td>Launched</td>\n",
       "    </tr>\n",
       "    <tr>\n",
       "      <th>3763</th>\n",
       "      <td>BRD-K72339976-065-03-9::2.5::HTS</td>\n",
       "      <td>BRD-K72339976-065-03-9</td>\n",
       "      <td>cefoselis</td>\n",
       "      <td>2.5</td>\n",
       "      <td>HTS</td>\n",
       "      <td>bacterial cell wall synthesis inhibitor</td>\n",
       "      <td>NaN</td>\n",
       "      <td>NaN</td>\n",
       "      <td>NaN</td>\n",
       "      <td>CO\\N=C(/C(=O)N[C@H]1[C@H]2SCC(Cn3ccc(=N)n3CCO)...</td>\n",
       "      <td>Launched</td>\n",
       "    </tr>\n",
       "    <tr>\n",
       "      <th>3764</th>\n",
       "      <td>BRD-K72339976-065-04-7::2.5::HTS</td>\n",
       "      <td>BRD-K72339976-065-04-7</td>\n",
       "      <td>cefoselis</td>\n",
       "      <td>2.5</td>\n",
       "      <td>HTS</td>\n",
       "      <td>bacterial cell wall synthesis inhibitor</td>\n",
       "      <td>NaN</td>\n",
       "      <td>NaN</td>\n",
       "      <td>NaN</td>\n",
       "      <td>CO\\N=C(/C(=O)N[C@H]1[C@H]2SCC(Cn3ccc(=N)n3CCO)...</td>\n",
       "      <td>Launched</td>\n",
       "    </tr>\n",
       "  </tbody>\n",
       "</table>\n",
       "</div>"
      ],
      "text/plain": [
       "                           column_name                broad_id       name  \\\n",
       "3762  BRD-K72339976-065-02-1::2.5::HTS  BRD-K72339976-065-02-1  cefoselis   \n",
       "3763  BRD-K72339976-065-03-9::2.5::HTS  BRD-K72339976-065-03-9  cefoselis   \n",
       "3764  BRD-K72339976-065-04-7::2.5::HTS  BRD-K72339976-065-04-7  cefoselis   \n",
       "\n",
       "      dose screen_id                                      moa target  \\\n",
       "3762   2.5       HTS  bacterial cell wall synthesis inhibitor    NaN   \n",
       "3763   2.5       HTS  bacterial cell wall synthesis inhibitor    NaN   \n",
       "3764   2.5       HTS  bacterial cell wall synthesis inhibitor    NaN   \n",
       "\n",
       "     disease.area indication  \\\n",
       "3762          NaN        NaN   \n",
       "3763          NaN        NaN   \n",
       "3764          NaN        NaN   \n",
       "\n",
       "                                                 smiles     phase  \n",
       "3762  CO\\N=C(/C(=O)N[C@H]1[C@H]2SCC(Cn3ccc(=N)n3CCO)...  Launched  \n",
       "3763  CO\\N=C(/C(=O)N[C@H]1[C@H]2SCC(Cn3ccc(=N)n3CCO)...  Launched  \n",
       "3764  CO\\N=C(/C(=O)N[C@H]1[C@H]2SCC(Cn3ccc(=N)n3CCO)...  Launched  "
      ]
     },
     "execution_count": 24,
     "metadata": {},
     "output_type": "execute_result"
    }
   ],
   "source": [
    "drug_name = \"cefoselis\"\n",
    "df_info[df_info.name == drug_name]"
   ]
  },
  {
   "cell_type": "markdown",
   "id": "ce18eedc",
   "metadata": {},
   "source": [
    "Is this a control or an experimental treatment drug?"
   ]
  },
  {
   "cell_type": "code",
   "execution_count": 25,
   "id": "c3670eb4",
   "metadata": {},
   "outputs": [],
   "source": [
    "df_info_replicates = pd.read_csv(\"data/primary-screen-replicate-treatment-info.csv\")"
   ]
  },
  {
   "cell_type": "code",
   "execution_count": 26,
   "id": "5b34bdbe",
   "metadata": {},
   "outputs": [
    {
     "name": "stdout",
     "output_type": "stream",
     "text": [
      "cefoselis is an experimental_treatment\n"
     ]
    }
   ],
   "source": [
    "print(\"{} is an {}\".format(\n",
    "    drug_name,\n",
    "    \" \".join(list(df_info_replicates[df_info_replicates.name == drug_name].perturbation_type.unique()))))"
   ]
  },
  {
   "cell_type": "markdown",
   "id": "0c608e11",
   "metadata": {},
   "source": [
    "### How different are the results for the same name/dose combination?\n",
    "\n",
    "For starters, the results for each *are* different:"
   ]
  },
  {
   "cell_type": "code",
   "execution_count": 27,
   "id": "3eec7b46",
   "metadata": {},
   "outputs": [],
   "source": [
    "cefoselis_25_columns = df_info[df_info.name == \"cefoselis\"].column_name.to_list()"
   ]
  },
  {
   "cell_type": "code",
   "execution_count": 28,
   "id": "10341acd",
   "metadata": {},
   "outputs": [
    {
     "data": {
      "text/html": [
       "<div>\n",
       "<style scoped>\n",
       "    .dataframe tbody tr th:only-of-type {\n",
       "        vertical-align: middle;\n",
       "    }\n",
       "\n",
       "    .dataframe tbody tr th {\n",
       "        vertical-align: top;\n",
       "    }\n",
       "\n",
       "    .dataframe thead th {\n",
       "        text-align: right;\n",
       "    }\n",
       "</style>\n",
       "<table border=\"1\" class=\"dataframe\">\n",
       "  <thead>\n",
       "    <tr style=\"text-align: right;\">\n",
       "      <th></th>\n",
       "      <th>BRD-K72339976-065-02-1::2.5::HTS</th>\n",
       "      <th>BRD-K72339976-065-03-9::2.5::HTS</th>\n",
       "      <th>BRD-K72339976-065-04-7::2.5::HTS</th>\n",
       "    </tr>\n",
       "    <tr>\n",
       "      <th>cell_line</th>\n",
       "      <th></th>\n",
       "      <th></th>\n",
       "      <th></th>\n",
       "    </tr>\n",
       "  </thead>\n",
       "  <tbody>\n",
       "    <tr>\n",
       "      <th>ACH-000001</th>\n",
       "      <td>-0.036150</td>\n",
       "      <td>-0.607059</td>\n",
       "      <td>NaN</td>\n",
       "    </tr>\n",
       "    <tr>\n",
       "      <th>ACH-000007</th>\n",
       "      <td>0.524170</td>\n",
       "      <td>0.125913</td>\n",
       "      <td>-0.369919</td>\n",
       "    </tr>\n",
       "    <tr>\n",
       "      <th>ACH-000008</th>\n",
       "      <td>-0.515084</td>\n",
       "      <td>0.171001</td>\n",
       "      <td>0.087202</td>\n",
       "    </tr>\n",
       "    <tr>\n",
       "      <th>ACH-000010_FAILED_STR</th>\n",
       "      <td>0.490244</td>\n",
       "      <td>NaN</td>\n",
       "      <td>0.356100</td>\n",
       "    </tr>\n",
       "    <tr>\n",
       "      <th>...</th>\n",
       "      <td>...</td>\n",
       "      <td>...</td>\n",
       "      <td>...</td>\n",
       "    </tr>\n",
       "    <tr>\n",
       "      <th>ACH-001306</th>\n",
       "      <td>-0.021689</td>\n",
       "      <td>-0.556729</td>\n",
       "      <td>0.154355</td>\n",
       "    </tr>\n",
       "    <tr>\n",
       "      <th>ACH-001307</th>\n",
       "      <td>-0.044736</td>\n",
       "      <td>-0.015259</td>\n",
       "      <td>-0.542601</td>\n",
       "    </tr>\n",
       "    <tr>\n",
       "      <th>ACH-001318</th>\n",
       "      <td>0.232368</td>\n",
       "      <td>-0.095139</td>\n",
       "      <td>-0.132654</td>\n",
       "    </tr>\n",
       "    <tr>\n",
       "      <th>ACH-001321</th>\n",
       "      <td>0.241290</td>\n",
       "      <td>0.018188</td>\n",
       "      <td>-0.403153</td>\n",
       "    </tr>\n",
       "  </tbody>\n",
       "</table>\n",
       "<p>578 rows × 3 columns</p>\n",
       "</div>"
      ],
      "text/plain": [
       "                       BRD-K72339976-065-02-1::2.5::HTS  \\\n",
       "cell_line                                                 \n",
       "ACH-000001                                    -0.036150   \n",
       "ACH-000007                                     0.524170   \n",
       "ACH-000008                                    -0.515084   \n",
       "ACH-000010_FAILED_STR                          0.490244   \n",
       "...                                                 ...   \n",
       "ACH-001306                                    -0.021689   \n",
       "ACH-001307                                    -0.044736   \n",
       "ACH-001318                                     0.232368   \n",
       "ACH-001321                                     0.241290   \n",
       "\n",
       "                       BRD-K72339976-065-03-9::2.5::HTS  \\\n",
       "cell_line                                                 \n",
       "ACH-000001                                    -0.607059   \n",
       "ACH-000007                                     0.125913   \n",
       "ACH-000008                                     0.171001   \n",
       "ACH-000010_FAILED_STR                               NaN   \n",
       "...                                                 ...   \n",
       "ACH-001306                                    -0.556729   \n",
       "ACH-001307                                    -0.015259   \n",
       "ACH-001318                                    -0.095139   \n",
       "ACH-001321                                     0.018188   \n",
       "\n",
       "                       BRD-K72339976-065-04-7::2.5::HTS  \n",
       "cell_line                                                \n",
       "ACH-000001                                          NaN  \n",
       "ACH-000007                                    -0.369919  \n",
       "ACH-000008                                     0.087202  \n",
       "ACH-000010_FAILED_STR                          0.356100  \n",
       "...                                                 ...  \n",
       "ACH-001306                                     0.154355  \n",
       "ACH-001307                                    -0.542601  \n",
       "ACH-001318                                    -0.132654  \n",
       "ACH-001321                                    -0.403153  \n",
       "\n",
       "[578 rows x 3 columns]"
      ]
     },
     "execution_count": 28,
     "metadata": {},
     "output_type": "execute_result"
    }
   ],
   "source": [
    "df_processed[cefoselis_25_columns]"
   ]
  },
  {
   "cell_type": "code",
   "execution_count": 29,
   "id": "4d704352",
   "metadata": {},
   "outputs": [],
   "source": [
    "from scipy.spatial.distance import cosine"
   ]
  },
  {
   "cell_type": "code",
   "execution_count": 30,
   "id": "7cd7f5bd",
   "metadata": {},
   "outputs": [],
   "source": [
    "def distance_between(data, columns, columns_other=None, distance_metric=cosine, print_message=True):\n",
    "    distances = []\n",
    "    dropped_row_counts = []\n",
    "    col_a_names = []\n",
    "    col_b_names = []\n",
    "    if columns_other is None:\n",
    "        columns_other = columns\n",
    "    else:\n",
    "        if DEBUG_FASTER:\n",
    "            columns_other = columns_other[:100]\n",
    "    for col_a in columns:\n",
    "        for col_b in columns_other:\n",
    "            if col_a != col_b:\n",
    "                data_dropna = data.dropna(subset=[col_a, col_b])\n",
    "                if print_message:\n",
    "                    print(\"Dropping {} of {} rows due to missing values in columns {}\".format(\n",
    "                        len(data) - len(data_dropna),\n",
    "                        len(data),\n",
    "                        [col_a, col_b]))\n",
    "                dropped_row_counts.append(len(data) - len(data_dropna))\n",
    "                col_a_names.append(col_a)\n",
    "                col_b_names.append(col_b)\n",
    "                distances.append(distance_metric(data_dropna[col_a], data_dropna[col_b]))\n",
    "    return pd.DataFrame({\"distance\": distances, \"dropped_row_count\": dropped_row_counts,\n",
    "                         \"col_a\": col_a_names, \"col_b\": col_b_names})"
   ]
  },
  {
   "cell_type": "code",
   "execution_count": 31,
   "id": "7d84d380",
   "metadata": {},
   "outputs": [
    {
     "name": "stdout",
     "output_type": "stream",
     "text": [
      "Dropping 44 of 578 rows due to missing values in columns ['BRD-K72339976-065-02-1::2.5::HTS', 'BRD-K72339976-065-03-9::2.5::HTS']\n",
      "Dropping 21 of 578 rows due to missing values in columns ['BRD-K72339976-065-02-1::2.5::HTS', 'BRD-K72339976-065-04-7::2.5::HTS']\n",
      "Dropping 44 of 578 rows due to missing values in columns ['BRD-K72339976-065-03-9::2.5::HTS', 'BRD-K72339976-065-02-1::2.5::HTS']\n",
      "Dropping 51 of 578 rows due to missing values in columns ['BRD-K72339976-065-03-9::2.5::HTS', 'BRD-K72339976-065-04-7::2.5::HTS']\n",
      "Dropping 21 of 578 rows due to missing values in columns ['BRD-K72339976-065-04-7::2.5::HTS', 'BRD-K72339976-065-02-1::2.5::HTS']\n",
      "Dropping 51 of 578 rows due to missing values in columns ['BRD-K72339976-065-04-7::2.5::HTS', 'BRD-K72339976-065-03-9::2.5::HTS']\n"
     ]
    }
   ],
   "source": [
    "cefoselis_25_distances = distance_between(df_processed, cefoselis_25_columns)"
   ]
  },
  {
   "cell_type": "code",
   "execution_count": 32,
   "id": "257b5607",
   "metadata": {},
   "outputs": [
    {
     "data": {
      "text/html": [
       "<div>\n",
       "<style scoped>\n",
       "    .dataframe tbody tr th:only-of-type {\n",
       "        vertical-align: middle;\n",
       "    }\n",
       "\n",
       "    .dataframe tbody tr th {\n",
       "        vertical-align: top;\n",
       "    }\n",
       "\n",
       "    .dataframe thead th {\n",
       "        text-align: right;\n",
       "    }\n",
       "</style>\n",
       "<table border=\"1\" class=\"dataframe\">\n",
       "  <thead>\n",
       "    <tr style=\"text-align: right;\">\n",
       "      <th></th>\n",
       "      <th>distance</th>\n",
       "      <th>dropped_row_count</th>\n",
       "      <th>col_a</th>\n",
       "      <th>col_b</th>\n",
       "    </tr>\n",
       "  </thead>\n",
       "  <tbody>\n",
       "    <tr>\n",
       "      <th>0</th>\n",
       "      <td>0.856220</td>\n",
       "      <td>44</td>\n",
       "      <td>BRD-K72339976-065-02-1::2.5::HTS</td>\n",
       "      <td>BRD-K72339976-065-03-9::2.5::HTS</td>\n",
       "    </tr>\n",
       "    <tr>\n",
       "      <th>1</th>\n",
       "      <td>1.061304</td>\n",
       "      <td>21</td>\n",
       "      <td>BRD-K72339976-065-02-1::2.5::HTS</td>\n",
       "      <td>BRD-K72339976-065-04-7::2.5::HTS</td>\n",
       "    </tr>\n",
       "    <tr>\n",
       "      <th>2</th>\n",
       "      <td>0.856220</td>\n",
       "      <td>44</td>\n",
       "      <td>BRD-K72339976-065-03-9::2.5::HTS</td>\n",
       "      <td>BRD-K72339976-065-02-1::2.5::HTS</td>\n",
       "    </tr>\n",
       "    <tr>\n",
       "      <th>3</th>\n",
       "      <td>1.035611</td>\n",
       "      <td>51</td>\n",
       "      <td>BRD-K72339976-065-03-9::2.5::HTS</td>\n",
       "      <td>BRD-K72339976-065-04-7::2.5::HTS</td>\n",
       "    </tr>\n",
       "    <tr>\n",
       "      <th>4</th>\n",
       "      <td>1.061304</td>\n",
       "      <td>21</td>\n",
       "      <td>BRD-K72339976-065-04-7::2.5::HTS</td>\n",
       "      <td>BRD-K72339976-065-02-1::2.5::HTS</td>\n",
       "    </tr>\n",
       "    <tr>\n",
       "      <th>5</th>\n",
       "      <td>1.035611</td>\n",
       "      <td>51</td>\n",
       "      <td>BRD-K72339976-065-04-7::2.5::HTS</td>\n",
       "      <td>BRD-K72339976-065-03-9::2.5::HTS</td>\n",
       "    </tr>\n",
       "  </tbody>\n",
       "</table>\n",
       "</div>"
      ],
      "text/plain": [
       "   distance  dropped_row_count                             col_a  \\\n",
       "0  0.856220                 44  BRD-K72339976-065-02-1::2.5::HTS   \n",
       "1  1.061304                 21  BRD-K72339976-065-02-1::2.5::HTS   \n",
       "2  0.856220                 44  BRD-K72339976-065-03-9::2.5::HTS   \n",
       "3  1.035611                 51  BRD-K72339976-065-03-9::2.5::HTS   \n",
       "4  1.061304                 21  BRD-K72339976-065-04-7::2.5::HTS   \n",
       "5  1.035611                 51  BRD-K72339976-065-04-7::2.5::HTS   \n",
       "\n",
       "                              col_b  \n",
       "0  BRD-K72339976-065-03-9::2.5::HTS  \n",
       "1  BRD-K72339976-065-04-7::2.5::HTS  \n",
       "2  BRD-K72339976-065-02-1::2.5::HTS  \n",
       "3  BRD-K72339976-065-04-7::2.5::HTS  \n",
       "4  BRD-K72339976-065-02-1::2.5::HTS  \n",
       "5  BRD-K72339976-065-03-9::2.5::HTS  "
      ]
     },
     "execution_count": 32,
     "metadata": {},
     "output_type": "execute_result"
    }
   ],
   "source": [
    "cefoselis_25_distances"
   ]
  },
  {
   "cell_type": "markdown",
   "id": "0d0be3b7",
   "metadata": {},
   "source": [
    "How does the above compare to the distances between the three cefoselis/2.5 combinations and the rest of the drugs?"
   ]
  },
  {
   "cell_type": "code",
   "execution_count": 35,
   "id": "6b43e890",
   "metadata": {},
   "outputs": [
    {
     "data": {
      "text/html": [
       "<div>\n",
       "<style scoped>\n",
       "    .dataframe tbody tr th:only-of-type {\n",
       "        vertical-align: middle;\n",
       "    }\n",
       "\n",
       "    .dataframe tbody tr th {\n",
       "        vertical-align: top;\n",
       "    }\n",
       "\n",
       "    .dataframe thead th {\n",
       "        text-align: right;\n",
       "    }\n",
       "</style>\n",
       "<table border=\"1\" class=\"dataframe\">\n",
       "  <thead>\n",
       "    <tr style=\"text-align: right;\">\n",
       "      <th></th>\n",
       "      <th>distance</th>\n",
       "      <th>dropped_row_count</th>\n",
       "      <th>col_a</th>\n",
       "      <th>col_b</th>\n",
       "    </tr>\n",
       "  </thead>\n",
       "  <tbody>\n",
       "    <tr>\n",
       "      <th>0</th>\n",
       "      <td>1.076371</td>\n",
       "      <td>36</td>\n",
       "      <td>BRD-K72339976-065-02-1::2.5::HTS</td>\n",
       "      <td>BRD-A00055058-001-01-0::2.325889319::MTS004</td>\n",
       "    </tr>\n",
       "    <tr>\n",
       "      <th>1</th>\n",
       "      <td>0.808229</td>\n",
       "      <td>38</td>\n",
       "      <td>BRD-K72339976-065-02-1::2.5::HTS</td>\n",
       "      <td>BRD-A00842753-001-01-9::2.5::MTS004</td>\n",
       "    </tr>\n",
       "    <tr>\n",
       "      <th>2</th>\n",
       "      <td>1.052591</td>\n",
       "      <td>36</td>\n",
       "      <td>BRD-K72339976-065-02-1::2.5::HTS</td>\n",
       "      <td>BRD-A02232681-001-01-8::2.5::MTS004</td>\n",
       "    </tr>\n",
       "    <tr>\n",
       "      <th>3</th>\n",
       "      <td>0.853346</td>\n",
       "      <td>36</td>\n",
       "      <td>BRD-K72339976-065-02-1::2.5::HTS</td>\n",
       "      <td>BRD-A04447196-001-01-8::2.5::MTS004</td>\n",
       "    </tr>\n",
       "    <tr>\n",
       "      <th>...</th>\n",
       "      <td>...</td>\n",
       "      <td>...</td>\n",
       "      <td>...</td>\n",
       "      <td>...</td>\n",
       "    </tr>\n",
       "    <tr>\n",
       "      <th>14051</th>\n",
       "      <td>0.890482</td>\n",
       "      <td>17</td>\n",
       "      <td>BRD-K72339976-065-04-7::2.5::HTS</td>\n",
       "      <td>BRD-U25960968-000-01-9::2.5::HTS</td>\n",
       "    </tr>\n",
       "    <tr>\n",
       "      <th>14052</th>\n",
       "      <td>1.079440</td>\n",
       "      <td>75</td>\n",
       "      <td>BRD-K72339976-065-04-7::2.5::HTS</td>\n",
       "      <td>BRD-U45393375-000-01-6::2.5::HTS</td>\n",
       "    </tr>\n",
       "    <tr>\n",
       "      <th>14053</th>\n",
       "      <td>0.981716</td>\n",
       "      <td>21</td>\n",
       "      <td>BRD-K72339976-065-04-7::2.5::HTS</td>\n",
       "      <td>BRD-U48018661-000-01-9::2.5::HTS</td>\n",
       "    </tr>\n",
       "    <tr>\n",
       "      <th>14054</th>\n",
       "      <td>0.883210</td>\n",
       "      <td>21</td>\n",
       "      <td>BRD-K72339976-065-04-7::2.5::HTS</td>\n",
       "      <td>BRD-U51753822-000-01-1::2.5::HTS</td>\n",
       "    </tr>\n",
       "  </tbody>\n",
       "</table>\n",
       "<p>14055 rows × 4 columns</p>\n",
       "</div>"
      ],
      "text/plain": [
       "       distance  dropped_row_count                             col_a  \\\n",
       "0      1.076371                 36  BRD-K72339976-065-02-1::2.5::HTS   \n",
       "1      0.808229                 38  BRD-K72339976-065-02-1::2.5::HTS   \n",
       "2      1.052591                 36  BRD-K72339976-065-02-1::2.5::HTS   \n",
       "3      0.853346                 36  BRD-K72339976-065-02-1::2.5::HTS   \n",
       "...         ...                ...                               ...   \n",
       "14051  0.890482                 17  BRD-K72339976-065-04-7::2.5::HTS   \n",
       "14052  1.079440                 75  BRD-K72339976-065-04-7::2.5::HTS   \n",
       "14053  0.981716                 21  BRD-K72339976-065-04-7::2.5::HTS   \n",
       "14054  0.883210                 21  BRD-K72339976-065-04-7::2.5::HTS   \n",
       "\n",
       "                                             col_b  \n",
       "0      BRD-A00055058-001-01-0::2.325889319::MTS004  \n",
       "1              BRD-A00842753-001-01-9::2.5::MTS004  \n",
       "2              BRD-A02232681-001-01-8::2.5::MTS004  \n",
       "3              BRD-A04447196-001-01-8::2.5::MTS004  \n",
       "...                                            ...  \n",
       "14051             BRD-U25960968-000-01-9::2.5::HTS  \n",
       "14052             BRD-U45393375-000-01-6::2.5::HTS  \n",
       "14053             BRD-U48018661-000-01-9::2.5::HTS  \n",
       "14054             BRD-U51753822-000-01-1::2.5::HTS  \n",
       "\n",
       "[14055 rows x 4 columns]"
      ]
     },
     "execution_count": 35,
     "metadata": {},
     "output_type": "execute_result"
    }
   ],
   "source": [
    "df_all_distances_cefoselis_25 = distance_between(\n",
    "    df_processed, \n",
    "    columns=cefoselis_25_columns, \n",
    "    columns_other=df_info.column_name.to_list(),\n",
    "    print_message=False)\n",
    "df_all_distances_cefoselis_25"
   ]
  },
  {
   "cell_type": "code",
   "execution_count": 36,
   "id": "d30dc5a4",
   "metadata": {},
   "outputs": [
    {
     "data": {
      "text/plain": [
       "<AxesSubplot:>"
      ]
     },
     "execution_count": 36,
     "metadata": {},
     "output_type": "execute_result"
    },
    {
     "data": {
      "image/png": "[encoded data removed]",
      "text/plain": [
       "<Figure size 432x288 with 1 Axes>"
      ]
     },
     "metadata": {
      "needs_background": "light"
     },
     "output_type": "display_data"
    }
   ],
   "source": [
    "df_all_distances_cefoselis_25.distance.hist()"
   ]
  },
  {
   "cell_type": "code",
   "execution_count": 37,
   "id": "3ac1d9e6",
   "metadata": {
    "scrolled": true
   },
   "outputs": [
    {
     "data": {
      "text/plain": [
       "count    14055.000000\n",
       "mean         0.999740\n",
       "std          0.167101\n",
       "min          0.453315\n",
       "25%          0.903775\n",
       "50%          0.984968\n",
       "75%          1.071373\n",
       "max          1.563750\n",
       "Name: distance, dtype: float64"
      ]
     },
     "execution_count": 37,
     "metadata": {},
     "output_type": "execute_result"
    }
   ],
   "source": [
    "df_all_distances_cefoselis_25.distance.describe()"
   ]
  },
  {
   "cell_type": "markdown",
   "id": "7139dfed",
   "metadata": {},
   "source": [
    "### So that's strange: the distance between the three cefoselis/2.5 combinations is sizable\n",
    "\n",
    "The distance between three cefoselis/2.5 combinations and each other is similar to the distance between them and the rest of the drugs."
   ]
  },
  {
   "cell_type": "markdown",
   "id": "b8b3ed5e",
   "metadata": {},
   "source": [
    "### How about two similar, but not identical, doses of the same drug?"
   ]
  },
  {
   "cell_type": "code",
   "execution_count": 38,
   "id": "1eb59ce2",
   "metadata": {},
   "outputs": [
    {
     "data": {
      "text/html": [
       "<div>\n",
       "<style scoped>\n",
       "    .dataframe tbody tr th:only-of-type {\n",
       "        vertical-align: middle;\n",
       "    }\n",
       "\n",
       "    .dataframe tbody tr th {\n",
       "        vertical-align: top;\n",
       "    }\n",
       "\n",
       "    .dataframe thead th {\n",
       "        text-align: right;\n",
       "    }\n",
       "</style>\n",
       "<table border=\"1\" class=\"dataframe\">\n",
       "  <thead>\n",
       "    <tr style=\"text-align: right;\">\n",
       "      <th></th>\n",
       "      <th>name_count</th>\n",
       "    </tr>\n",
       "    <tr>\n",
       "      <th>name</th>\n",
       "      <th></th>\n",
       "    </tr>\n",
       "  </thead>\n",
       "  <tbody>\n",
       "    <tr>\n",
       "      <th>piromidic-acid</th>\n",
       "      <td>2</td>\n",
       "    </tr>\n",
       "    <tr>\n",
       "      <th>BIX-02188</th>\n",
       "      <td>2</td>\n",
       "    </tr>\n",
       "    <tr>\n",
       "      <th>methotrexate</th>\n",
       "      <td>2</td>\n",
       "    </tr>\n",
       "    <tr>\n",
       "      <th>sparfloxacin</th>\n",
       "      <td>2</td>\n",
       "    </tr>\n",
       "    <tr>\n",
       "      <th>...</th>\n",
       "      <td>...</td>\n",
       "    </tr>\n",
       "    <tr>\n",
       "      <th>ardeparin</th>\n",
       "      <td>1</td>\n",
       "    </tr>\n",
       "    <tr>\n",
       "      <th>arecaidine-but-2-ynyl-ester</th>\n",
       "      <td>1</td>\n",
       "    </tr>\n",
       "    <tr>\n",
       "      <th>arecaidine-propargyl-ester</th>\n",
       "      <td>1</td>\n",
       "    </tr>\n",
       "    <tr>\n",
       "      <th>zuclopenthixol</th>\n",
       "      <td>1</td>\n",
       "    </tr>\n",
       "  </tbody>\n",
       "</table>\n",
       "<p>4518 rows × 1 columns</p>\n",
       "</div>"
      ],
      "text/plain": [
       "                             name_count\n",
       "name                                   \n",
       "piromidic-acid                        2\n",
       "BIX-02188                             2\n",
       "methotrexate                          2\n",
       "sparfloxacin                          2\n",
       "...                                 ...\n",
       "ardeparin                             1\n",
       "arecaidine-but-2-ynyl-ester           1\n",
       "arecaidine-propargyl-ester            1\n",
       "zuclopenthixol                        1\n",
       "\n",
       "[4518 rows x 1 columns]"
      ]
     },
     "execution_count": 38,
     "metadata": {},
     "output_type": "execute_result"
    }
   ],
   "source": [
    "df_same_name_different_dose_count = df_info[[\"name\", \"dose\"]].drop_duplicates().groupby(\"name\").count().rename(\n",
    "    columns={\"dose\": \"name_count\"})\n",
    "df_same_name_different_dose_count.sort_values(by=\"name_count\", ascending=False)"
   ]
  },
  {
   "cell_type": "code",
   "execution_count": 39,
   "id": "cd018e30",
   "metadata": {},
   "outputs": [
    {
     "name": "stdout",
     "output_type": "stream",
     "text": [
      "paliperidone is an experimental_treatment\n"
     ]
    }
   ],
   "source": [
    "drug_name = \"paliperidone\"\n",
    "print(\"{} is an {}\".format(\n",
    "    drug_name,\n",
    "    \" \".join(list(df_info_replicates[df_info_replicates.name == drug_name].perturbation_type.unique()))))"
   ]
  },
  {
   "cell_type": "code",
   "execution_count": 40,
   "id": "70053b90",
   "metadata": {},
   "outputs": [
    {
     "data": {
      "text/html": [
       "<div>\n",
       "<style scoped>\n",
       "    .dataframe tbody tr th:only-of-type {\n",
       "        vertical-align: middle;\n",
       "    }\n",
       "\n",
       "    .dataframe tbody tr th {\n",
       "        vertical-align: top;\n",
       "    }\n",
       "\n",
       "    .dataframe thead th {\n",
       "        text-align: right;\n",
       "    }\n",
       "</style>\n",
       "<table border=\"1\" class=\"dataframe\">\n",
       "  <thead>\n",
       "    <tr style=\"text-align: right;\">\n",
       "      <th></th>\n",
       "      <th>BRD-A99888680-001-03-8::2.38::HTS</th>\n",
       "      <th>BRD-A99888680-001-04-6::2.5::HTS</th>\n",
       "    </tr>\n",
       "    <tr>\n",
       "      <th>cell_line</th>\n",
       "      <th></th>\n",
       "      <th></th>\n",
       "    </tr>\n",
       "  </thead>\n",
       "  <tbody>\n",
       "    <tr>\n",
       "      <th>ACH-000001</th>\n",
       "      <td>0.634714</td>\n",
       "      <td>-0.027650</td>\n",
       "    </tr>\n",
       "    <tr>\n",
       "      <th>ACH-000007</th>\n",
       "      <td>-0.995421</td>\n",
       "      <td>-0.073679</td>\n",
       "    </tr>\n",
       "    <tr>\n",
       "      <th>ACH-000008</th>\n",
       "      <td>NaN</td>\n",
       "      <td>-0.269418</td>\n",
       "    </tr>\n",
       "    <tr>\n",
       "      <th>ACH-000010_FAILED_STR</th>\n",
       "      <td>NaN</td>\n",
       "      <td>0.103702</td>\n",
       "    </tr>\n",
       "    <tr>\n",
       "      <th>...</th>\n",
       "      <td>...</td>\n",
       "      <td>...</td>\n",
       "    </tr>\n",
       "    <tr>\n",
       "      <th>ACH-001306</th>\n",
       "      <td>0.118545</td>\n",
       "      <td>-0.507825</td>\n",
       "    </tr>\n",
       "    <tr>\n",
       "      <th>ACH-001307</th>\n",
       "      <td>0.120775</td>\n",
       "      <td>-0.003516</td>\n",
       "    </tr>\n",
       "    <tr>\n",
       "      <th>ACH-001318</th>\n",
       "      <td>0.425228</td>\n",
       "      <td>-0.797057</td>\n",
       "    </tr>\n",
       "    <tr>\n",
       "      <th>ACH-001321</th>\n",
       "      <td>0.027278</td>\n",
       "      <td>-0.477762</td>\n",
       "    </tr>\n",
       "  </tbody>\n",
       "</table>\n",
       "<p>578 rows × 2 columns</p>\n",
       "</div>"
      ],
      "text/plain": [
       "                       BRD-A99888680-001-03-8::2.38::HTS  \\\n",
       "cell_line                                                  \n",
       "ACH-000001                                      0.634714   \n",
       "ACH-000007                                     -0.995421   \n",
       "ACH-000008                                           NaN   \n",
       "ACH-000010_FAILED_STR                                NaN   \n",
       "...                                                  ...   \n",
       "ACH-001306                                      0.118545   \n",
       "ACH-001307                                      0.120775   \n",
       "ACH-001318                                      0.425228   \n",
       "ACH-001321                                      0.027278   \n",
       "\n",
       "                       BRD-A99888680-001-04-6::2.5::HTS  \n",
       "cell_line                                                \n",
       "ACH-000001                                    -0.027650  \n",
       "ACH-000007                                    -0.073679  \n",
       "ACH-000008                                    -0.269418  \n",
       "ACH-000010_FAILED_STR                          0.103702  \n",
       "...                                                 ...  \n",
       "ACH-001306                                    -0.507825  \n",
       "ACH-001307                                    -0.003516  \n",
       "ACH-001318                                    -0.797057  \n",
       "ACH-001321                                    -0.477762  \n",
       "\n",
       "[578 rows x 2 columns]"
      ]
     },
     "execution_count": 40,
     "metadata": {},
     "output_type": "execute_result"
    }
   ],
   "source": [
    "drug_name_columns = df_info[df_info.name == drug_name].column_name.to_list()\n",
    "df_processed[drug_name_columns]"
   ]
  },
  {
   "cell_type": "code",
   "execution_count": 41,
   "id": "80c464fc",
   "metadata": {},
   "outputs": [
    {
     "name": "stdout",
     "output_type": "stream",
     "text": [
      "Dropping 91 of 578 rows due to missing values in columns ['BRD-A99888680-001-03-8::2.38::HTS', 'BRD-A99888680-001-04-6::2.5::HTS']\n",
      "Dropping 91 of 578 rows due to missing values in columns ['BRD-A99888680-001-04-6::2.5::HTS', 'BRD-A99888680-001-03-8::2.38::HTS']\n"
     ]
    },
    {
     "data": {
      "text/html": [
       "<div>\n",
       "<style scoped>\n",
       "    .dataframe tbody tr th:only-of-type {\n",
       "        vertical-align: middle;\n",
       "    }\n",
       "\n",
       "    .dataframe tbody tr th {\n",
       "        vertical-align: top;\n",
       "    }\n",
       "\n",
       "    .dataframe thead th {\n",
       "        text-align: right;\n",
       "    }\n",
       "</style>\n",
       "<table border=\"1\" class=\"dataframe\">\n",
       "  <thead>\n",
       "    <tr style=\"text-align: right;\">\n",
       "      <th></th>\n",
       "      <th>distance</th>\n",
       "      <th>dropped_row_count</th>\n",
       "      <th>col_a</th>\n",
       "      <th>col_b</th>\n",
       "    </tr>\n",
       "  </thead>\n",
       "  <tbody>\n",
       "    <tr>\n",
       "      <th>0</th>\n",
       "      <td>1.112185</td>\n",
       "      <td>91</td>\n",
       "      <td>BRD-A99888680-001-03-8::2.38::HTS</td>\n",
       "      <td>BRD-A99888680-001-04-6::2.5::HTS</td>\n",
       "    </tr>\n",
       "    <tr>\n",
       "      <th>1</th>\n",
       "      <td>1.112185</td>\n",
       "      <td>91</td>\n",
       "      <td>BRD-A99888680-001-04-6::2.5::HTS</td>\n",
       "      <td>BRD-A99888680-001-03-8::2.38::HTS</td>\n",
       "    </tr>\n",
       "  </tbody>\n",
       "</table>\n",
       "</div>"
      ],
      "text/plain": [
       "   distance  dropped_row_count                              col_a  \\\n",
       "0  1.112185                 91  BRD-A99888680-001-03-8::2.38::HTS   \n",
       "1  1.112185                 91   BRD-A99888680-001-04-6::2.5::HTS   \n",
       "\n",
       "                               col_b  \n",
       "0   BRD-A99888680-001-04-6::2.5::HTS  \n",
       "1  BRD-A99888680-001-03-8::2.38::HTS  "
      ]
     },
     "execution_count": 41,
     "metadata": {},
     "output_type": "execute_result"
    }
   ],
   "source": [
    "drug_name_distances = distance_between(df_processed, drug_name_columns)\n",
    "drug_name_distances"
   ]
  },
  {
   "cell_type": "code",
   "execution_count": 42,
   "id": "52d00725",
   "metadata": {},
   "outputs": [],
   "source": [
    "df_all_distances_piromidic = distance_between(\n",
    "    df_processed, \n",
    "    columns=drug_name_columns, \n",
    "    columns_other=df_info.column_name.to_list(),\n",
    "    print_message=False)"
   ]
  },
  {
   "cell_type": "code",
   "execution_count": 43,
   "id": "9a105c7f",
   "metadata": {},
   "outputs": [
    {
     "data": {
      "text/plain": [
       "<AxesSubplot:>"
      ]
     },
     "execution_count": 43,
     "metadata": {},
     "output_type": "execute_result"
    },
    {
     "data": {
      "image/png": "[encoded data removed]",
      "text/plain": [
       "<Figure size 432x288 with 1 Axes>"
      ]
     },
     "metadata": {
      "needs_background": "light"
     },
     "output_type": "display_data"
    }
   ],
   "source": [
    "df_all_distances_piromidic.distance.hist()"
   ]
  },
  {
   "cell_type": "code",
   "execution_count": 44,
   "id": "9c9a4aac",
   "metadata": {},
   "outputs": [
    {
     "data": {
      "text/plain": [
       "count    9370.000000\n",
       "mean        0.950532\n",
       "std         0.214583\n",
       "min         0.344275\n",
       "25%         0.858307\n",
       "50%         0.972680\n",
       "75%         1.077946\n",
       "max         1.551110\n",
       "Name: distance, dtype: float64"
      ]
     },
     "execution_count": 44,
     "metadata": {},
     "output_type": "execute_result"
    }
   ],
   "source": [
    "df_all_distances_piromidic.distance.describe()"
   ]
  },
  {
   "cell_type": "markdown",
   "id": "f728bf6c",
   "metadata": {},
   "source": [
    "So here was an example of a drug where we had:\n",
    "    \n",
    "* Two different doses (2.5 μM and 2.38 μM), even though the primary screen was supposedly just 2.5 μM\n",
    "* The difference between the response to those similar doses was significant"
   ]
  },
  {
   "cell_type": "markdown",
   "id": "d040ae1c",
   "metadata": {},
   "source": [
    "### Back to comparing different responses to the same drug name and dose..."
   ]
  },
  {
   "cell_type": "markdown",
   "id": "12cd127e",
   "metadata": {},
   "source": [
    "Why, in addition to plate/well replicates that were already collapsed, would there be all these same name/dose columns? And why would the differences between responses to the same drug/dose be so sizable?\n",
    "\n",
    "Next steps:\n",
    " \n",
    "* Look at similarity across replicates\n",
    "* Look at secondary data to see what dose combinations exist there"
   ]
  },
  {
   "cell_type": "code",
   "execution_count": null,
   "id": "0b7c799f",
   "metadata": {},
   "outputs": [],
   "source": []
  }
 ],
 "metadata": {
  "kernelspec": {
   "display_name": "Python 3 (ipykernel)",
   "language": "python",
   "name": "python3"
  },
  "language_info": {
   "codemirror_mode": {
    "name": "ipython",
    "version": 3
   },
   "file_extension": ".py",
   "mimetype": "text/x-python",
   "name": "python",
   "nbconvert_exporter": "python",
   "pygments_lexer": "ipython3",
   "version": "3.7.11"
  }
 },
 "nbformat": 4,
 "nbformat_minor": 5
}
